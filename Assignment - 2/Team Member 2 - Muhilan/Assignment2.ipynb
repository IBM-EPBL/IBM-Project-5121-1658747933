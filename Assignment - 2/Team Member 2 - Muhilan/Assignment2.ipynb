{
  "nbformat": 4,
  "nbformat_minor": 0,
  "metadata": {
    "colab": {
      "provenance": []
    },
    "kernelspec": {
      "name": "python3",
      "display_name": "Python 3"
    },
    "language_info": {
      "name": "python"
    }
  },
  "cells": [
    {
      "cell_type": "code",
      "execution_count": 1,
      "metadata": {
        "colab": {
          "base_uri": "https://localhost:8080/"
        },
        "id": "ECsibwyVNqrT",
        "outputId": "f7bf0436-d761-4ff0-ab42-e8f61a132ea2"
      },
      "outputs": [
        {
          "output_type": "stream",
          "name": "stdout",
          "text": [
            "Humidity: 11 Temperature: 20\n",
            "Humidity: 34 Temperature: 50\n",
            "High Temperature Detected\n"
          ]
        }
      ],
      "source": [
        "import random\n",
        "\n",
        "from time import sleep\n",
        "\n",
        "def generate_values():\n",
        "\n",
        "  temperature = random.randint(10, 50)\n",
        "\n",
        "  humidity = random.randint(10, temperature)\n",
        "\n",
        "  return humidity, temperature\n",
        "\n",
        "humidity = temperature = 0\n",
        "\n",
        "while temperature < 45:\n",
        "\n",
        "  humidity, temperature = generate_values()\n",
        "\n",
        "  print('Humidity:', humidity, 'Temperature:', temperature)\n",
        "\n",
        "  sleep(0.50)\n",
        "\n",
        "print('High Temperature Detected')\n",
        "\n"
      ]
    }
  ]
}