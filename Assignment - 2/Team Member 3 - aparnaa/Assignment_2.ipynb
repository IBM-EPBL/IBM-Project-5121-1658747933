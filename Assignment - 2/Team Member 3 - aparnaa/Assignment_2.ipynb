{
  "nbformat": 4,
  "nbformat_minor": 0,
  "metadata": {
    "colab": {
      "provenance": []
    },
    "kernelspec": {
      "name": "python3",
      "display_name": "Python 3"
    },
    "language_info": {
      "name": "python"
    }
  },
  "cells": [
    {
      "cell_type": "code",
      "execution_count": 1,
      "metadata": {
        "colab": {
          "base_uri": "https://localhost:8080/"
        },
        "id": "t6q2PyZMQYTf",
        "outputId": "438d99bf-4ea8-4cd9-9e51-c6b7a4231c03"
      },
      "outputs": [
        {
          "output_type": "stream",
          "name": "stdout",
          "text": [
            "Humidity: 11 Temperature: 13\n",
            "Humidity: 20 Temperature: 43\n",
            "Humidity: 12 Temperature: 21\n",
            "Humidity: 19 Temperature: 46\n",
            "High Temperature Detected\n"
          ]
        }
      ],
      "source": [
        "import random\n",
        "from time import sleep\n",
        "def generate_values():\n",
        "    temperature = random.randint(10, 50)\n",
        "    humidity = random.randint(10, temperature)\n",
        "    return humidity, temperature\n",
        "\n",
        "humidity = temperature = 0\n",
        "\n",
        "while temperature < 45:\n",
        "    humidity, temperature = generate_values()\n",
        "    print('Humidity:', humidity, 'Temperature:', temperature)\n",
        "    sleep(0.50)\n",
        "print('High Temperature Detected')\n",
        "\n"
      ]
    },
    {
      "cell_type": "markdown",
      "source": [],
      "metadata": {
        "id": "etNtN7CqQf3z"
      }
    }
  ]
}